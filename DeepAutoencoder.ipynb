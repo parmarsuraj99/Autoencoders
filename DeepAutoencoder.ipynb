{
  "nbformat": 4,
  "nbformat_minor": 0,
  "metadata": {
    "colab": {
      "name": "DeepAutoencoder.ipynb",
      "provenance": [],
      "collapsed_sections": [],
      "include_colab_link": true
    },
    "kernelspec": {
      "name": "python3",
      "display_name": "Python 3"
    },
    "accelerator": "GPU"
  },
  "cells": [
    {
      "cell_type": "markdown",
      "metadata": {
        "id": "view-in-github",
        "colab_type": "text"
      },
      "source": [
        "<a href=\"https://colab.research.google.com/github/parmarsuraj99/Autoencoders/blob/master/DeepAutoencoder.ipynb\" target=\"_parent\"><img src=\"https://colab.research.google.com/assets/colab-badge.svg\" alt=\"Open In Colab\"/></a>"
      ]
    },
    {
      "cell_type": "code",
      "metadata": {
        "id": "RsuGfD8--DUG",
        "colab_type": "code",
        "colab": {}
      },
      "source": [
        "import numpy as np\n",
        "import tensorflow as tf\n",
        "from tensorflow import keras\n",
        "from matplotlib import pyplot as plt"
      ],
      "execution_count": 0,
      "outputs": []
    },
    {
      "cell_type": "code",
      "metadata": {
        "id": "Lrt5tiRJ-DSt",
        "colab_type": "code",
        "outputId": "d7a7039b-a8c6-492c-cad2-bdf0a73494de",
        "colab": {
          "base_uri": "https://localhost:8080/",
          "height": 35
        }
      },
      "source": [
        "from keras.datasets import mnist\n",
        "from keras.layers import Input, Dense\n",
        "from keras.models import Model"
      ],
      "execution_count": 0,
      "outputs": [
        {
          "output_type": "stream",
          "text": [
            "Using TensorFlow backend.\n"
          ],
          "name": "stderr"
        }
      ]
    },
    {
      "cell_type": "code",
      "metadata": {
        "id": "a5I-BA7K-DON",
        "colab_type": "code",
        "outputId": "ddd43dc1-bac7-47e7-e7a6-cf95085ecece",
        "colab": {
          "base_uri": "https://localhost:8080/",
          "height": 54
        }
      },
      "source": [
        "(x_train, y_train), (x_test, y_test) = mnist.load_data()"
      ],
      "execution_count": 0,
      "outputs": [
        {
          "output_type": "stream",
          "text": [
            "Downloading data from https://s3.amazonaws.com/img-datasets/mnist.npz\n",
            "11493376/11490434 [==============================] - 2s 0us/step\n"
          ],
          "name": "stdout"
        }
      ]
    },
    {
      "cell_type": "code",
      "metadata": {
        "id": "jFiRn0ef_hHJ",
        "colab_type": "code",
        "outputId": "cf3ad53b-98c9-4b7f-95ef-bd098775a2c6",
        "colab": {
          "base_uri": "https://localhost:8080/",
          "height": 35
        }
      },
      "source": [
        "x_train.shape"
      ],
      "execution_count": 0,
      "outputs": [
        {
          "output_type": "execute_result",
          "data": {
            "text/plain": [
              "(60000, 28, 28)"
            ]
          },
          "metadata": {
            "tags": []
          },
          "execution_count": 5
        }
      ]
    },
    {
      "cell_type": "code",
      "metadata": {
        "id": "zvjFj5PL_rVH",
        "colab_type": "code",
        "colab": {}
      },
      "source": [
        "x_train = x_train.astype('float32')/255.0\n",
        "x_test = x_test.astype('float32')/255.0"
      ],
      "execution_count": 0,
      "outputs": []
    },
    {
      "cell_type": "markdown",
      "metadata": {
        "id": "1KS4RuDZ6Kuz",
        "colab_type": "text"
      },
      "source": [
        "Reshaping images, Flattening them to feed to a Dense network\n",
        "\n",
        "we won't do this in ConvNets"
      ]
    },
    {
      "cell_type": "code",
      "metadata": {
        "id": "lv-AALS9AA7r",
        "colab_type": "code",
        "colab": {}
      },
      "source": [
        "x_train = x_train.reshape(len(x_train), (x_train.shape[1]*x_train.shape[2]))\n",
        "x_test = x_test.reshape(len(x_test), (x_test.shape[1]*x_test.shape[2]))"
      ],
      "execution_count": 0,
      "outputs": []
    },
    {
      "cell_type": "code",
      "metadata": {
        "id": "Z09aungJAG6E",
        "colab_type": "code",
        "colab": {}
      },
      "source": [
        "encoding_dim = 32\n",
        "\n",
        "input_img = Input(shape = (784, ))\n",
        "encoded = Dense(128, activation='relu')(input_img)\n",
        "encoded = Dense(encoding_dim, activation='relu')(encoded)\n",
        "\n",
        "\n",
        "decoded = Dense(128, activation='relu')(encoded)\n",
        "decoded = Dense(784, activation='sigmoid')(decoded)\n",
        "\n",
        "autoencoder = Model(input_img, decoded)"
      ],
      "execution_count": 0,
      "outputs": []
    },
    {
      "cell_type": "code",
      "metadata": {
        "id": "HN8ANrYPEvfl",
        "colab_type": "code",
        "colab": {}
      },
      "source": [
        "encoder = Model(input_img, encoded)\n",
        "encoded_input = Input(shape=(encoding_dim, ))\n",
        "decode_layer1 = autoencoder.layers[-2]\n",
        "decode_layer2 = autoencoder.layers[-1]\n",
        "decoder = Model(encoded_input, decode_layer2(decode_layer1(encoded_input)))"
      ],
      "execution_count": 0,
      "outputs": []
    },
    {
      "cell_type": "code",
      "metadata": {
        "id": "skKxFoz_4rCS",
        "colab_type": "code",
        "outputId": "24f6e177-3127-4169-fd00-df67d3ebe3ef",
        "colab": {
          "base_uri": "https://localhost:8080/",
          "height": 35
        }
      },
      "source": [
        "autoencoder.get_layer('dense_5')"
      ],
      "execution_count": 0,
      "outputs": [
        {
          "output_type": "execute_result",
          "data": {
            "text/plain": [
              "<keras.layers.core.Dense at 0x7fd4a202e710>"
            ]
          },
          "metadata": {
            "tags": []
          },
          "execution_count": 35
        }
      ]
    },
    {
      "cell_type": "code",
      "metadata": {
        "id": "6tVqkhvHAIPz",
        "colab_type": "code",
        "colab": {}
      },
      "source": [
        "autoencoder.compile(optimizer='adadelta', loss='binary_crossentropy', metrics=['accuracy'])"
      ],
      "execution_count": 0,
      "outputs": []
    },
    {
      "cell_type": "code",
      "metadata": {
        "id": "PUBcoIWKzdVL",
        "colab_type": "code",
        "outputId": "4a1f574e-0b02-49db-c228-c4269ee9017e",
        "colab": {
          "base_uri": "https://localhost:8080/",
          "height": 348
        }
      },
      "source": [
        "autoencoder.summary()"
      ],
      "execution_count": 0,
      "outputs": [
        {
          "output_type": "stream",
          "text": [
            "Model: \"model_6\"\n",
            "_________________________________________________________________\n",
            "Layer (type)                 Output Shape              Param #   \n",
            "=================================================================\n",
            "input_6 (InputLayer)         (None, 784)               0         \n",
            "_________________________________________________________________\n",
            "dense_3 (Dense)              (None, 128)               100480    \n",
            "_________________________________________________________________\n",
            "dense_4 (Dense)              (None, 32)                4128      \n",
            "_________________________________________________________________\n",
            "dense_5 (Dense)              (None, 128)               4224      \n",
            "_________________________________________________________________\n",
            "dense_6 (Dense)              (None, 784)               101136    \n",
            "=================================================================\n",
            "Total params: 209,968\n",
            "Trainable params: 209,968\n",
            "Non-trainable params: 0\n",
            "_________________________________________________________________\n"
          ],
          "name": "stdout"
        }
      ]
    },
    {
      "cell_type": "code",
      "metadata": {
        "id": "HLMkoI-JCgPX",
        "colab_type": "code",
        "outputId": "e2053547-3301-4923-81b2-bfe051688c25",
        "colab": {
          "base_uri": "https://localhost:8080/",
          "height": 403
        }
      },
      "source": [
        "hist = autoencoder.fit(x_train, x_train, epochs=10, validation_data=(x_test, x_test))"
      ],
      "execution_count": 0,
      "outputs": [
        {
          "output_type": "stream",
          "text": [
            "Train on 60000 samples, validate on 10000 samples\n",
            "Epoch 1/10\n",
            "60000/60000 [==============================] - 12s 202us/step - loss: 0.2129 - acc: 0.7929 - val_loss: 0.1578 - val_acc: 0.8043\n",
            "Epoch 2/10\n",
            "60000/60000 [==============================] - 12s 196us/step - loss: 0.1422 - acc: 0.8077 - val_loss: 0.1278 - val_acc: 0.8080\n",
            "Epoch 3/10\n",
            "60000/60000 [==============================] - 12s 195us/step - loss: 0.1226 - acc: 0.8108 - val_loss: 0.1157 - val_acc: 0.8114\n",
            "Epoch 4/10\n",
            "60000/60000 [==============================] - 12s 195us/step - loss: 0.1142 - acc: 0.8118 - val_loss: 0.1086 - val_acc: 0.8115\n",
            "Epoch 5/10\n",
            "60000/60000 [==============================] - 12s 198us/step - loss: 0.1088 - acc: 0.8125 - val_loss: 0.1063 - val_acc: 0.8110\n",
            "Epoch 6/10\n",
            "60000/60000 [==============================] - 12s 196us/step - loss: 0.1050 - acc: 0.8129 - val_loss: 0.1020 - val_acc: 0.8117\n",
            "Epoch 7/10\n",
            "60000/60000 [==============================] - 12s 195us/step - loss: 0.1019 - acc: 0.8132 - val_loss: 0.0985 - val_acc: 0.8126\n",
            "Epoch 8/10\n",
            "60000/60000 [==============================] - 12s 196us/step - loss: 0.0994 - acc: 0.8135 - val_loss: 0.0968 - val_acc: 0.8127\n",
            "Epoch 9/10\n",
            "60000/60000 [==============================] - 12s 196us/step - loss: 0.0975 - acc: 0.8137 - val_loss: 0.0952 - val_acc: 0.8130\n",
            "Epoch 10/10\n",
            "60000/60000 [==============================] - 12s 192us/step - loss: 0.0961 - acc: 0.8138 - val_loss: 0.0936 - val_acc: 0.8131\n"
          ],
          "name": "stdout"
        }
      ]
    },
    {
      "cell_type": "code",
      "metadata": {
        "id": "n4xxDcKfEV8_",
        "colab_type": "code",
        "outputId": "77bcd685-2bd1-4eb2-9eee-e7e2c08cf303",
        "colab": {
          "base_uri": "https://localhost:8080/",
          "height": 287
        }
      },
      "source": [
        "encoded_images = encoder.predict(x_test)\n",
        "encoded_images.shape\n",
        "predicted = decoder.predict(encoded_images)\n",
        "plt.imshow(predicted[0].reshape(28, 28))"
      ],
      "execution_count": 0,
      "outputs": [
        {
          "output_type": "execute_result",
          "data": {
            "text/plain": [
              "<matplotlib.image.AxesImage at 0x7fd4a1aa1a58>"
            ]
          },
          "metadata": {
            "tags": []
          },
          "execution_count": 38
        },
        {
          "output_type": "display_data",
          "data": {
            "image/png": "[encoded data removed]",
            "text/plain": [
              "<Figure size 432x288 with 1 Axes>"
            ]
          },
          "metadata": {
            "tags": []
          }
        }
      ]
    },
    {
      "cell_type": "code",
      "metadata": {
        "id": "3H3Ekx1SHp5y",
        "colab_type": "code",
        "outputId": "e2c12384-3645-45fa-a46e-6aecdb259a2d",
        "colab": {
          "base_uri": "https://localhost:8080/",
          "height": 269
        }
      },
      "source": [
        "def plot_imgs(index=0):\n",
        "  f = plt.figure()\n",
        "  f.add_subplot(1,3, 1)\n",
        "  plt.imshow(x_test[index].reshape(28, 28))\n",
        "  f.add_subplot(1,3, 2)\n",
        "  plt.imshow(encoded_images[index].reshape(-1, 1))\n",
        "  f.add_subplot(1,3, 3)\n",
        "  plt.imshow(predicted[index].reshape(28, 28))\n",
        "  plt.show(block=True)\n",
        "  \n",
        "plot_imgs(2)"
      ],
      "execution_count": 0,
      "outputs": [
        {
          "output_type": "display_data",
          "data": {
            "image/png": "[encoded data removed]",
            "text/plain": [
              "<Figure size 432x288 with 3 Axes>"
            ]
          },
          "metadata": {
            "tags": []
          }
        }
      ]
    },
    {
      "cell_type": "markdown",
      "metadata": {
        "id": "8lkIoRva6ewM",
        "colab_type": "text"
      },
      "source": [
        "# Let's use Convolutional Neural Nets to get better results"
      ]
    },
    {
      "cell_type": "code",
      "metadata": {
        "id": "4UorTYac692G",
        "colab_type": "code",
        "colab": {}
      },
      "source": [
        "from keras.layers import Dense, Input, UpSampling2D, Conv2D"
      ],
      "execution_count": 0,
      "outputs": []
    },
    {
      "cell_type": "markdown",
      "metadata": {
        "id": "u8p2wwLa6qbB",
        "colab_type": "text"
      },
      "source": [
        "Getting data"
      ]
    },
    {
      "cell_type": "code",
      "metadata": {
        "id": "07Ixl4YT6eQZ",
        "colab_type": "code",
        "colab": {}
      },
      "source": [
        "(x_train, y_train), (x_test, y_test) = mnist.load_data()"
      ],
      "execution_count": 0,
      "outputs": []
    },
    {
      "cell_type": "code",
      "metadata": {
        "id": "-tmJMUnx6eVQ",
        "colab_type": "code",
        "colab": {}
      },
      "source": [
        "x_train = x_train.astype('float32')/255.0\n",
        "x_test = x_test.astype('float32')/255.0"
      ],
      "execution_count": 0,
      "outputs": []
    },
    {
      "cell_type": "code",
      "metadata": {
        "id": "ZLPajgLH8ai4",
        "colab_type": "code",
        "colab": {}
      },
      "source": [
        "x_train = x_train.reshape((60000, 28, 28, 1))\n",
        "x_test = x_test.reshape((10000, 28, 28, 1))"
      ],
      "execution_count": 0,
      "outputs": []
    },
    {
      "cell_type": "code",
      "metadata": {
        "id": "d2PouxDW7eB0",
        "colab_type": "code",
        "colab": {}
      },
      "source": [
        "img_height, img_width, _ = x_train[1].shape"
      ],
      "execution_count": 0,
      "outputs": []
    },
    {
      "cell_type": "code",
      "metadata": {
        "id": "CHctX-5G6wTb",
        "colab_type": "code",
        "colab": {}
      },
      "source": [
        "def CNN_AE():\n",
        "    input_img = Input(shape=(img_width, img_height, 1))\n",
        "    \n",
        "    # Encoding network\n",
        "    x = Conv2D(16, (3, 3), activation='relu', padding='same', strides=2)(input_img)\n",
        "    x = Conv2D(32, (3, 3), activation='relu', padding='same', strides=2)(x)\n",
        "    encoded = Conv2D(32, (2, 2), activation='relu', padding=\"same\", strides=2)(x)\n",
        "\n",
        "    # Decoding network\n",
        "    x = Conv2D(32, (2, 2), activation='relu', padding=\"same\")(encoded)\n",
        "    x = UpSampling2D((2, 2))(x)\n",
        "    x = Conv2D(32, (3, 3), activation='relu', padding='same')(x)\n",
        "    x = UpSampling2D((2, 2))(x)\n",
        "    x = Conv2D(16, (3, 3), activation='relu')(x)\n",
        "    x = UpSampling2D((2, 2))(x)\n",
        "    decoded = Conv2D(1, (3, 3), activation='sigmoid', padding='same')(x)\n",
        "    \n",
        "    encoder = Model(input_img, encoded)\n",
        "    \n",
        "    return Model(input_img, decoded), encoder"
      ],
      "execution_count": 0,
      "outputs": []
    },
    {
      "cell_type": "code",
      "metadata": {
        "id": "euWIUw7i9W39",
        "colab_type": "code",
        "colab": {}
      },
      "source": [
        ""
      ],
      "execution_count": 0,
      "outputs": []
    },
    {
      "cell_type": "code",
      "metadata": {
        "id": "a-0v2iI16wVm",
        "colab_type": "code",
        "colab": {}
      },
      "source": [
        "model_cnn, encoder = CNN_AE()\n",
        "model_cnn.compile(optimizer='adadelta', loss='binary_crossentropy')"
      ],
      "execution_count": 0,
      "outputs": []
    },
    {
      "cell_type": "code",
      "metadata": {
        "id": "9RikWIEy6wa4",
        "colab_type": "code",
        "outputId": "ee777875-aea8-4e50-a9fe-7b1b436008f8",
        "colab": {
          "base_uri": "https://localhost:8080/",
          "height": 72
        }
      },
      "source": [
        "cnn_hist = model_cnn.fit(x_train, x_train, validation_data=(x_test, x_test))"
      ],
      "execution_count": 0,
      "outputs": [
        {
          "output_type": "stream",
          "text": [
            "Train on 60000 samples, validate on 10000 samples\n",
            "Epoch 1/1\n",
            "60000/60000 [==============================] - 20s 339us/step - loss: 0.0899 - val_loss: 0.0844\n"
          ],
          "name": "stdout"
        }
      ]
    },
    {
      "cell_type": "code",
      "metadata": {
        "id": "uOJoBgDd6weQ",
        "colab_type": "code",
        "colab": {}
      },
      "source": [
        "reconstruct = model_cnn.predict(x_test)"
      ],
      "execution_count": 0,
      "outputs": []
    },
    {
      "cell_type": "code",
      "metadata": {
        "id": "G15_xNl8_Wyz",
        "colab_type": "code",
        "outputId": "136c1df9-e1bf-442f-f020-5393579af9b0",
        "colab": {
          "base_uri": "https://localhost:8080/",
          "height": 131
        }
      },
      "source": [
        "def plot_imgs_for_cnn(index=0):\n",
        "  f = plt.figure(figsize=(10, 10))\n",
        "  f.add_subplot(1,6, 1)\n",
        "  plt.imshow(x_test[index].reshape(28, 28))\n",
        "   \n",
        "  \n",
        "  f.add_subplot(1,6, 2)\n",
        "  plt.imshow(encoded_images[index][:, :, 0])\n",
        "  f.add_subplot(1,6, 3)\n",
        "  plt.imshow(encoded_images[index][:, :, 1])\n",
        "  f.add_subplot(1,6, 4)\n",
        "  plt.imshow(encoded_images[index][:, :, 2])\n",
        "  f.add_subplot(1,6, 5)\n",
        "  plt.imshow(encoded_images[index][:, :, 3])\n",
        "  \n",
        "  \n",
        "  f.add_subplot(1,6, 6)\n",
        "  plt.imshow(reconstruct[index].reshape(28,28))\n",
        "  \n",
        "  plt.show(block=True)\n",
        "  \n",
        "plot_imgs_for_cnn(3)"
      ],
      "execution_count": 0,
      "outputs": [
        {
          "output_type": "display_data",
          "data": {
            "image/png": "[encoded data removed]",
            "text/plain": [
              "<Figure size 720x720 with 6 Axes>"
            ]
          },
          "metadata": {
            "tags": []
          }
        }
      ]
    },
    {
      "cell_type": "code",
      "metadata": {
        "id": "_p4rclEL_0A5",
        "colab_type": "code",
        "colab": {}
      },
      "source": [
        ""
      ],
      "execution_count": 0,
      "outputs": []
    },
    {
      "cell_type": "code",
      "metadata": {
        "id": "g1alULdqIIyb",
        "colab_type": "code",
        "colab": {}
      },
      "source": [
        ""
      ],
      "execution_count": 0,
      "outputs": []
    },
    {
      "cell_type": "markdown",
      "metadata": {
        "id": "RCivQ5wdOBBr",
        "colab_type": "text"
      },
      "source": [
        "# **Denoising example**"
      ]
    },
    {
      "cell_type": "code",
      "metadata": {
        "id": "xR4oH_QXII0v",
        "colab_type": "code",
        "colab": {}
      },
      "source": [
        "noise_factor = 0.5\n",
        "x_train_noisy = x_train + noise_factor * np.random.normal(loc=0.0, scale=1.0, size=x_train.shape) \n",
        "x_test_noisy = x_test + noise_factor * np.random.normal(loc=0.0, scale=1.0, size=x_test.shape) \n",
        "\n",
        "x_train_noisy = np.clip(x_train_noisy, 0., 1.)\n",
        "x_test_noisy = np.clip(x_test_noisy, 0., 1.)"
      ],
      "execution_count": 0,
      "outputs": []
    },
    {
      "cell_type": "code",
      "metadata": {
        "id": "TvS9CX6III3b",
        "colab_type": "code",
        "colab": {
          "base_uri": "https://localhost:8080/",
          "height": 72
        },
        "outputId": "8f54b173-159d-4c77-edac-15de211e6731"
      },
      "source": [
        "cnn_hist = model_cnn.fit(x_train_noisy, x_train, validation_data=(x_test_noisy, x_test))"
      ],
      "execution_count": 155,
      "outputs": [
        {
          "output_type": "stream",
          "text": [
            "Train on 60000 samples, validate on 10000 samples\n",
            "Epoch 1/1\n",
            "60000/60000 [==============================] - 20s 333us/step - loss: 0.1180 - val_loss: 0.1100\n"
          ],
          "name": "stdout"
        }
      ]
    },
    {
      "cell_type": "code",
      "metadata": {
        "id": "HCRmI7oUI4jd",
        "colab_type": "code",
        "colab": {}
      },
      "source": [
        "reconstruct = model_cnn.predict(x_test_noisy)\n",
        "encoded_images= encoder.predict(x_test_noisy)"
      ],
      "execution_count": 0,
      "outputs": []
    },
    {
      "cell_type": "code",
      "metadata": {
        "id": "gyehz6t-II5d",
        "colab_type": "code",
        "colab": {
          "base_uri": "https://localhost:8080/",
          "height": 131
        },
        "outputId": "4de1e821-dc81-40b2-e614-9ada9ffacec7"
      },
      "source": [
        "def plot_imgs_for_cnn_noisy(index=0):\n",
        "  f = plt.figure(figsize=(10, 10))\n",
        "  f.add_subplot(1,6, 1)\n",
        "  plt.imshow(x_test_noisy[index].reshape(28, 28))\n",
        "   \n",
        "  \n",
        "  f.add_subplot(1,6, 2)\n",
        "  plt.imshow(encoded_images[index][:, :, 0])\n",
        "  f.add_subplot(1,6, 3)\n",
        "  plt.imshow(encoded_images[index][:, :, 1])\n",
        "  f.add_subplot(1,6, 4)\n",
        "  plt.imshow(encoded_images[index][:, :, 2])\n",
        "  f.add_subplot(1,6, 5)\n",
        "  plt.imshow(encoded_images[index][:, :, 3])\n",
        "  \n",
        "  \n",
        "  f.add_subplot(1,6, 6)\n",
        "  plt.imshow(reconstruct[index].reshape(28,28))\n",
        "  \n",
        "  plt.show(block=True)\n",
        "  \n",
        "plot_imgs_for_cnn_noisy(3)"
      ],
      "execution_count": 163,
      "outputs": [
        {
          "output_type": "display_data",
          "data": {
            "image/png": "[encoded data removed]",
            "text/plain": [
              "<Figure size 720x720 with 6 Axes>"
            ]
          },
          "metadata": {
            "tags": []
          }
        }
      ]
    },
    {
      "cell_type": "code",
      "metadata": {
        "id": "X5KNaod4JLaX",
        "colab_type": "code",
        "colab": {}
      },
      "source": [
        ""
      ],
      "execution_count": 0,
      "outputs": []
    }
  ]
}